{
  "nbformat": 4,
  "nbformat_minor": 0,
  "metadata": {
    "colab": {
      "name": "FaceEmotion.ipynb",
      "provenance": [],
      "collapsed_sections": []
    },
    "kernelspec": {
      "name": "python3",
      "display_name": "Python 3"
    },
    "language_info": {
      "name": "python"
    }
  },
  "cells": [
    {
      "cell_type": "markdown",
      "metadata": {
        "id": "E5vAT5O4OmYx"
      },
      "source": [
        "## **Dataset Cleaning and Face Image Extraction**\n",
        "\n"
      ]
    },
    {
      "cell_type": "markdown",
      "metadata": {
        "id": "kaxxBwdJPbFc"
      },
      "source": [
        "***Import Modules***"
      ]
    },
    {
      "cell_type": "code",
      "metadata": {
        "id": "S_i7apT2O7lz"
      },
      "source": [
        "import numpy as np\n",
        "import cv2\n",
        "import matplotlib\n",
        "from matplotlib import pyplot as plt"
      ],
      "execution_count": null,
      "outputs": []
    },
    {
      "cell_type": "markdown",
      "metadata": {
        "id": "OyTv3wn3PjL6"
      },
      "source": [
        "***Mouting Google Drive***"
      ]
    },
    {
      "cell_type": "code",
      "metadata": {
        "id": "sT2DhtrKPAHp",
        "colab": {
          "base_uri": "https://localhost:8080/"
        },
        "outputId": "ad8e6d71-c587-49b3-bcd7-fe63d070367b"
      },
      "source": [
        "from google.colab import drive\n",
        "drive.mount('/content/drive/')"
      ],
      "execution_count": null,
      "outputs": [
        {
          "output_type": "stream",
          "name": "stdout",
          "text": [
            "Mounted at /content/drive/\n"
          ]
        }
      ]
    },
    {
      "cell_type": "markdown",
      "metadata": {
        "id": "2yJZ6YoePsF6"
      },
      "source": [
        "***Location of Harr Cascade Files for Frontal Face and Eye Detection***"
      ]
    },
    {
      "cell_type": "code",
      "metadata": {
        "id": "dXLU7kPAPCJE"
      },
      "source": [
        "face_cascade = cv2.CascadeClassifier('/content/drive/MyDrive/Colab Notebooks/haar-cascade-files-master/haarcascade_frontalface_default.xml')\n",
        "eye_cascade = cv2.CascadeClassifier('/content/drive/MyDrive/Colab Notebooks/haar-cascade-files-master/haarcascade_eye.xml')"
      ],
      "execution_count": null,
      "outputs": []
    },
    {
      "cell_type": "markdown",
      "metadata": {
        "id": "G71KkovFPz0q"
      },
      "source": [
        "***Function for Extracting Multiple Faces on an Image***"
      ]
    },
    {
      "cell_type": "code",
      "metadata": {
        "id": "xeKI1e68PFrp"
      },
      "source": [
        "def getCroppedFaceImage(image_path):\n",
        "  img = cv2.imread(image_path)\n",
        "  gray = cv2.cvtColor(img,cv2.COLOR_BGR2GRAY)\n",
        "  faces = face_cascade.detectMultiScale(gray,1.3,5)\n",
        "  \n",
        "  if len(faces) == 0:\n",
        "    return None\n",
        "  else:\n",
        "    faces_list = []\n",
        "    for face in faces:\n",
        "      for (x,y,w,h) in faces:\n",
        "        roi_gray = gray[y:y+h,x:x+w]\n",
        "        roi_color = img[y:y+h,x:x+w]\n",
        "        eyes = eye_cascade.detectMultiScale(roi_gray)\n",
        "        faces_list.append(roi_color)\n",
        "      return faces_list"
      ],
      "execution_count": null,
      "outputs": []
    },
    {
      "cell_type": "markdown",
      "metadata": {
        "id": "Gwo5lF8VQKZF"
      },
      "source": [
        "***Scan and Make Directories according to Emotion Dataset***"
      ]
    },
    {
      "cell_type": "code",
      "metadata": {
        "id": "bFOzk6hQPJJp"
      },
      "source": [
        "path_to_data = \"/content/drive/MyDrive/Colab Notebooks/emotions_dataset_v0.1/\"\n",
        "path_to_cr_data = \"/content/drive/MyDrive/Colab Notebooks/emotions_dataset_v0.1/cropped/\""
      ],
      "execution_count": null,
      "outputs": []
    },
    {
      "cell_type": "code",
      "metadata": {
        "id": "BXE_EPmgPNgl"
      },
      "source": [
        "import os\n",
        "img_dirs = []\n",
        "for entry in os.scandir(path_to_data):\n",
        "    if entry.is_dir():\n",
        "        img_dirs.append(entry.path)"
      ],
      "execution_count": null,
      "outputs": []
    },
    {
      "cell_type": "code",
      "metadata": {
        "id": "aJEL6fEAPPnj"
      },
      "source": [
        "img_dirs"
      ],
      "execution_count": null,
      "outputs": []
    },
    {
      "cell_type": "code",
      "metadata": {
        "id": "FJPBQKA0PRcM"
      },
      "source": [
        "import shutil\n",
        "if os.path.exists(path_to_cr_data):\n",
        "     shutil.rmtree(path_to_cr_data)\n",
        "os.mkdir(path_to_cr_data)"
      ],
      "execution_count": null,
      "outputs": []
    },
    {
      "cell_type": "markdown",
      "metadata": {
        "id": "YcETnKAUQSyZ"
      },
      "source": [
        "***Extracting and Saving Face Images for each Emotion Type***"
      ]
    },
    {
      "cell_type": "code",
      "metadata": {
        "id": "rrPQdftpPTvP"
      },
      "source": [
        "cropped_image_dirs = []\n",
        "celebrity_file_names_dict = {}\n",
        "\n",
        "for img_dir in img_dirs:\n",
        "    count = 1\n",
        "    celebrity_name = img_dir.split('/')[-1]\n",
        "    print(celebrity_name)\n",
        "    \n",
        "    celebrity_file_names_dict[celebrity_name] = []\n",
        "    \n",
        "    for entry in os.scandir(img_dir):\n",
        "        roi_color = getCroppedFaceImage(entry.path)\n",
        "        if roi_color is not None:\n",
        "            cropped_folder = path_to_cr_data + celebrity_name\n",
        "            if not os.path.exists(cropped_folder):\n",
        "                os.makedirs(cropped_folder)\n",
        "                cropped_image_dirs.append(cropped_folder)\n",
        "                print(\"Generating cropped images in folder: \",cropped_folder)\n",
        "                \n",
        "            for f in roi_color:\n",
        "              cropped_file_name = celebrity_name + str(count) + \".jpg\"\n",
        "              cropped_file_path = cropped_folder + \"/\" + cropped_file_name \n",
        "              cv2.imwrite(cropped_file_path, f)\n",
        "              celebrity_file_names_dict[celebrity_name].append(cropped_file_path)\n",
        "              count += 1 "
      ],
      "execution_count": null,
      "outputs": []
    },
    {
      "cell_type": "markdown",
      "metadata": {
        "id": "iGjgt3lMQf37"
      },
      "source": [
        "## **Convolutional Neural Network Building for Training and Testing Dataset**"
      ]
    },
    {
      "cell_type": "markdown",
      "metadata": {
        "id": "WCzLliUpQyYB"
      },
      "source": [
        "***Importing Modules***"
      ]
    },
    {
      "cell_type": "code",
      "metadata": {
        "id": "fzv9Rm4EPWnr"
      },
      "source": [
        "import os\n",
        "import numpy as np\n",
        "import torch\n",
        "import glob\n",
        "import torch.nn as nn\n",
        "from torchvision.transforms import transforms\n",
        "from torch.utils.data import DataLoader\n",
        "from torch.optim import Adam\n",
        "from torch.autograd import Variable\n",
        "import torchvision\n",
        "import pathlib\n",
        "from torch.utils.tensorboard import SummaryWriter"
      ],
      "execution_count": null,
      "outputs": []
    },
    {
      "cell_type": "markdown",
      "metadata": {
        "id": "t1PgyjRrRy7D"
      },
      "source": [
        "***Checking for GPU availability***"
      ]
    },
    {
      "cell_type": "code",
      "metadata": {
        "id": "SgC875x_Q9pi",
        "colab": {
          "base_uri": "https://localhost:8080/"
        },
        "outputId": "f3db843e-100a-4954-fdcf-8f50fbde6b21"
      },
      "source": [
        "device = torch.device('cuda' if torch.cuda.is_available() else 'cpu')\n",
        "print(device)"
      ],
      "execution_count": null,
      "outputs": [
        {
          "output_type": "stream",
          "name": "stdout",
          "text": [
            "cpu\n"
          ]
        }
      ]
    },
    {
      "cell_type": "markdown",
      "metadata": {
        "id": "WbfwggzIR_pC"
      },
      "source": [
        "***Adding Transformation on Training Images***"
      ]
    },
    {
      "cell_type": "code",
      "metadata": {
        "id": "RhBJkZBGQ-Hr"
      },
      "source": [
        "transformer = transforms.Compose([\n",
        "                                  transforms.RandomPerspective(distortion_scale=0.6,p=0.5), transforms.RandomRotation(degrees=(0,180)),\n",
        "                                  transforms.RandomAffine(degrees=(30, 70), translate=(0.1, 0.3), scale=(0.5, 0.75)), transforms.RandomInvert(p=0.2),\n",
        "                                  transforms.RandomAdjustSharpness(0, p=0.25), transforms.RandomAdjustSharpness(2, p=0.25),\n",
        "                                  transforms.RandomAutocontrast(p=0.2), transforms.RandomEqualize(p=0.1),\n",
        "                                  transforms.Resize((150,150)),\n",
        "                                  transforms.RandomHorizontalFlip(),\n",
        "                                  transforms.ToTensor(),\n",
        "                                  transforms.Normalize([0.5,0.5,0.5], \n",
        "                                                        [0.5,0.5,0.5])\n",
        "])"
      ],
      "execution_count": null,
      "outputs": []
    },
    {
      "cell_type": "markdown",
      "metadata": {
        "id": "UhfrcXd6SOzQ"
      },
      "source": [
        "***Dataloader***"
      ]
    },
    {
      "cell_type": "code",
      "metadata": {
        "id": "_1-4gUM-RAqs"
      },
      "source": [
        "train_path = \"/content/drive/MyDrive/Colab Notebooks/new_clean_emotions_dataset_v0.1/train/\"\n",
        "test_path = \"/content/drive/MyDrive/Colab Notebooks/new_clean_emotions_dataset_v0.1/train/\"\n",
        "\n",
        "train_loader=DataLoader(\n",
        "    torchvision.datasets.ImageFolder(train_path,transform=transformer),\n",
        "    batch_size=32, shuffle=True\n",
        ")\n",
        "\n",
        "test_loader = DataLoader(\n",
        "    torchvision.datasets.ImageFolder(train_path,transform=transformer),\n",
        "    batch_size = 32, shuffle = True\n",
        ")"
      ],
      "execution_count": null,
      "outputs": []
    },
    {
      "cell_type": "code",
      "metadata": {
        "id": "7CQn9id6RDSL"
      },
      "source": [
        "root=pathlib.Path(train_path)\n",
        "classes=sorted([j.name.split('/')[-1] for j in root.iterdir()])"
      ],
      "execution_count": null,
      "outputs": []
    },
    {
      "cell_type": "code",
      "metadata": {
        "id": "qk7BkkYeRFSU",
        "colab": {
          "base_uri": "https://localhost:8080/"
        },
        "outputId": "c298c1d8-feda-4be0-bf96-a570220777eb"
      },
      "source": [
        "classes"
      ],
      "execution_count": null,
      "outputs": [
        {
          "output_type": "execute_result",
          "data": {
            "text/plain": [
              "['angry',\n",
              " 'confused',\n",
              " 'crying',\n",
              " 'fear',\n",
              " 'happy',\n",
              " 'puzzled',\n",
              " 'sad',\n",
              " 'scared',\n",
              " 'shy']"
            ]
          },
          "metadata": {},
          "execution_count": 22
        }
      ]
    },
    {
      "cell_type": "markdown",
      "metadata": {
        "id": "jmIeXcQ8SS0y"
      },
      "source": [
        "***Convolutional Neural Network***"
      ]
    },
    {
      "cell_type": "code",
      "metadata": {
        "id": "gw947Y-zGhfv"
      },
      "source": [
        "class ConvNet(nn.Module):\n",
        "    def __init__(self,num_classes=9):\n",
        "        super(ConvNet,self).__init__()\n",
        "        \n",
        "        #Input Shape = (32,3,150,150)\n",
        "        self.conv1=nn.Conv2d(in_channels=3,out_channels=12,kernel_size=3,stride=1,padding=1)\n",
        "        self.bn1=nn.BatchNorm2d(num_features=12)\n",
        "        self.relu1=nn.ReLU()\n",
        "        \n",
        "        self.pool=nn.MaxPool2d(kernel_size=2) #Reduce the image size be factor 2\n",
        "        #Shape= (256,12,75,75)\n",
        "        \n",
        "        self.conv2=nn.Conv2d(in_channels=12,out_channels=20,kernel_size=3,stride=1,padding=1)\n",
        "        self.relu2=nn.ReLU()          \n",
        "                \n",
        "        self.conv3=nn.Conv2d(in_channels=20,out_channels=32,kernel_size=3,stride=1,padding=1)\n",
        "        self.bn3=nn.BatchNorm2d(num_features=32) \n",
        "        self.relu3=nn.ReLU() \n",
        "                \n",
        "        self.fc=nn.Linear(in_features=75 * 75 * 32,out_features=num_classes)\n",
        "\n",
        "    def forward(self,input):\n",
        "        output=self.conv1(input)\n",
        "        output=self.bn1(output)\n",
        "        output=self.relu1(output)\n",
        "            \n",
        "        output=self.pool(output)\n",
        "            \n",
        "        output=self.conv2(output)\n",
        "        output=self.relu2(output)\n",
        "            \n",
        "        output=self.conv3(output)\n",
        "        output=self.bn3(output)\n",
        "        output=self.relu3(output)\n",
        "               \n",
        "        output=output.view(-1,32*75*75)\n",
        "        output=self.fc(output)\n",
        "      \n",
        "        return output"
      ],
      "execution_count": null,
      "outputs": []
    },
    {
      "cell_type": "code",
      "metadata": {
        "id": "LT6am0DlRPp1"
      },
      "source": [
        "net=ConvNet(num_classes=9)\n",
        "model = net"
      ],
      "execution_count": null,
      "outputs": []
    },
    {
      "cell_type": "markdown",
      "metadata": {
        "id": "f3W8RR0LSZ-D"
      },
      "source": [
        "***Parameters***"
      ]
    },
    {
      "cell_type": "code",
      "metadata": {
        "id": "RH3iYKrJRSNj"
      },
      "source": [
        "optimizer = Adam(model.parameters(),lr=0.001,weight_decay=0.0001)\n",
        "num_epochs = 10\n",
        "writer = SummaryWriter('runs/fer2013_experiment_1')\n",
        "criterion= nn.CrossEntropyLoss()"
      ],
      "execution_count": null,
      "outputs": []
    },
    {
      "cell_type": "code",
      "metadata": {
        "id": "2tnH-dEwRVeb",
        "colab": {
          "base_uri": "https://localhost:8080/"
        },
        "outputId": "c6023721-cca7-4485-e1d2-9885c806ca07"
      },
      "source": [
        "train_count = len(glob.glob(train_path+'/**/*.jpg'))\n",
        "test_count = len(glob.glob(test_path+'/**/*.jpg'))\n",
        "print(train_count,test_count)\n",
        "train_dataset = train_count\n",
        "validation_dataset = test_count"
      ],
      "execution_count": null,
      "outputs": [
        {
          "output_type": "stream",
          "name": "stdout",
          "text": [
            "1354 1354\n"
          ]
        }
      ]
    },
    {
      "cell_type": "markdown",
      "metadata": {
        "id": "qAberr4SSjJP"
      },
      "source": [
        "***Model Traing and Evaluation Function***"
      ]
    },
    {
      "cell_type": "code",
      "metadata": {
        "id": "zz9s70cLrY9r"
      },
      "source": [
        "def Train(epochs,train_loader,val_loader,criterion,optmizer,device, writer):\n",
        "    '''\n",
        "    Training Loop\n",
        "    '''\n",
        "    best_accuracy = 0\n",
        "    print(\"===================================Start Training===================================\")\n",
        "    for e in range(epochs):\n",
        "        train_loss = 0\n",
        "        validation_loss = 0\n",
        "        train_correct = 0\n",
        "        val_correct = 0\n",
        "        # Train the model  #\n",
        "        net.train()\n",
        "        for data, labels in train_loader:\n",
        "            data, labels = data.to(device), labels.to(device)\n",
        "            try:\n",
        "              optmizer.zero_grad()\n",
        "            except Exception:\n",
        "              pass\n",
        "            \n",
        "            outputs = net(data)\n",
        "            \n",
        "            loss = criterion(outputs,labels)\n",
        "            loss.backward()\n",
        "            optmizer.step()\n",
        "            train_loss += loss.item()\n",
        "            _, preds = torch.max(outputs,1)\n",
        "            train_correct += torch.sum(preds == labels.data)\n",
        "\n",
        "        #validate the model#\n",
        "        net.eval()\n",
        "        for data,labels in val_loader:\n",
        "            data, labels = data.to(device), labels.to(device)\n",
        "            val_outputs = net(data)\n",
        "            val_loss = criterion(val_outputs, labels)\n",
        "            validation_loss += val_loss.item()\n",
        "            _, val_preds = torch.max(val_outputs,1)\n",
        "            val_correct += torch.sum(val_preds == labels.data)\n",
        "\n",
        "        train_loss = train_loss/train_dataset\n",
        "        train_acc = train_correct.double() /train_dataset\n",
        "        validation_loss =  validation_loss /validation_dataset\n",
        "        val_acc = val_correct.double() /validation_dataset\n",
        "        print('Epoch: {} \\tTraining Loss: {:.8f} \\tValidation Loss {:.8f} \\tTraining Acuuarcy {:.3f}% \\tValidation Acuuarcy {:.3f}%'\n",
        "                                                           .format(e+1, train_loss,validation_loss,train_acc * 100, val_acc*100))\n",
        "        \n",
        "        if val_acc>best_accuracy:\n",
        "          torch.save(net.state_dict(),'/content/drive/MyDrive/Colab Notebooks/best_checkpoint_test.model')\n",
        "          best_accuracy=val_acc"
      ],
      "execution_count": null,
      "outputs": []
    },
    {
      "cell_type": "code",
      "metadata": {
        "id": "cgDtLr9PRfk4",
        "colab": {
          "base_uri": "https://localhost:8080/"
        },
        "outputId": "5a05f8f3-6cff-498d-eed3-525a1b0f7198"
      },
      "source": [
        "Train(num_epochs,train_loader,test_loader,criterion,optimizer,device,writer)"
      ],
      "execution_count": null,
      "outputs": [
        {
          "output_type": "stream",
          "name": "stdout",
          "text": [
            "===================================Start Training===================================\n",
            "Epoch: 1 \tTraining Loss: 0.03233056 \tValidation Loss 0.02582853 \tTraining Acuuarcy 76.809% \tValidation Acuuarcy 80.724%\n",
            "Epoch: 2 \tTraining Loss: 0.02915660 \tValidation Loss 0.02586996 \tTraining Acuuarcy 80.428% \tValidation Acuuarcy 80.724%\n",
            "Epoch: 3 \tTraining Loss: 0.02806220 \tValidation Loss 0.02523662 \tTraining Acuuarcy 80.133% \tValidation Acuuarcy 80.724%\n",
            "Epoch: 4 \tTraining Loss: 0.02611928 \tValidation Loss 0.02532908 \tTraining Acuuarcy 80.576% \tValidation Acuuarcy 80.724%\n",
            "Epoch: 5 \tTraining Loss: 0.02795859 \tValidation Loss 0.02589779 \tTraining Acuuarcy 79.542% \tValidation Acuuarcy 80.724%\n",
            "Epoch: 6 \tTraining Loss: 0.02901842 \tValidation Loss 0.02933859 \tTraining Acuuarcy 80.428% \tValidation Acuuarcy 80.724%\n",
            "Epoch: 7 \tTraining Loss: 0.03215233 \tValidation Loss 0.02587733 \tTraining Acuuarcy 78.582% \tValidation Acuuarcy 80.724%\n",
            "Epoch: 8 \tTraining Loss: 0.02814503 \tValidation Loss 0.02490656 \tTraining Acuuarcy 80.724% \tValidation Acuuarcy 80.724%\n",
            "Epoch: 9 \tTraining Loss: 0.02676738 \tValidation Loss 0.02476198 \tTraining Acuuarcy 80.428% \tValidation Acuuarcy 80.724%\n",
            "Epoch: 10 \tTraining Loss: 0.02667683 \tValidation Loss 0.02479651 \tTraining Acuuarcy 80.724% \tValidation Acuuarcy 80.724%\n"
          ]
        }
      ]
    },
    {
      "cell_type": "markdown",
      "metadata": {
        "id": "aELCord3SpUi"
      },
      "source": [
        "## **Model Evaluation on Unknown Data**"
      ]
    },
    {
      "cell_type": "markdown",
      "metadata": {
        "id": "XvLqBiRbS6O6"
      },
      "source": [
        "***Importung Modules***"
      ]
    },
    {
      "cell_type": "code",
      "metadata": {
        "id": "R3C0QIywS91w"
      },
      "source": [
        "import torch\n",
        "import torch.nn as nn\n",
        "from torchvision.transforms import transforms\n",
        "import numpy as np\n",
        "from torch.autograd import Variable\n",
        "from torchvision.models import squeezenet1_1\n",
        "import torch.functional as F\n",
        "from io import open\n",
        "import os\n",
        "from PIL import Image\n",
        "import pathlib\n",
        "import glob\n",
        "import cv2\n",
        "import matplotlib.pyplot as plt"
      ],
      "execution_count": null,
      "outputs": []
    },
    {
      "cell_type": "code",
      "metadata": {
        "id": "ezv-Qk7WS_4i"
      },
      "source": [
        "train_path='/content/drive/MyDrive/Colab Notebooks/new_clean_emotions_dataset_v0.1/train/'\n",
        "pred_path='/content/drive/MyDrive/Colab Notebooks/new_clean_emotions_dataset_v0.1/pred'"
      ],
      "execution_count": null,
      "outputs": []
    },
    {
      "cell_type": "code",
      "metadata": {
        "id": "SAZuuZVfTDXJ"
      },
      "source": [
        "root=pathlib.Path(train_path)\n",
        "classes=sorted([j.name.split('/')[-1] for j in root.iterdir()])\n",
        "classes"
      ],
      "execution_count": null,
      "outputs": []
    },
    {
      "cell_type": "code",
      "metadata": {
        "id": "_eDdlBoFHrly"
      },
      "source": [
        "class ConvNet(nn.Module):\n",
        "    def __init__(self,num_classes=9):\n",
        "        super(ConvNet,self).__init__()\n",
        "        \n",
        "        #Output size after convolution filter\n",
        "        #((w-f+2P)/s) +1\n",
        "        \n",
        "        #Input shape= (256,3,150,150)\n",
        "        \n",
        "        self.conv1=nn.Conv2d(in_channels=3,out_channels=12,kernel_size=3,stride=1,padding=1)\n",
        "        #Shape= (256,12,150,150)\n",
        "        self.bn1=nn.BatchNorm2d(num_features=12)\n",
        "        #Shape= (256,12,150,150)\n",
        "        self.relu1=nn.ReLU()\n",
        "        #Shape= (256,12,150,150)\n",
        "        \n",
        "        self.pool=nn.MaxPool2d(kernel_size=2)\n",
        "        #Reduce the image size be factor 2\n",
        "        #Shape= (256,12,75,75)\n",
        "        \n",
        "        \n",
        "        self.conv2=nn.Conv2d(in_channels=12,out_channels=20,kernel_size=3,stride=1,padding=1)\n",
        "        #Shape= (256,20,75,75)\n",
        "        self.relu2=nn.ReLU()\n",
        "        #Shape= (256,20,75,75)\n",
        "        \n",
        "        \n",
        "        \n",
        "        self.conv3=nn.Conv2d(in_channels=20,out_channels=32,kernel_size=3,stride=1,padding=1)\n",
        "        #Shape= (256,32,75,75)\n",
        "        self.bn3=nn.BatchNorm2d(num_features=32)\n",
        "        #Shape= (256,32,75,75)\n",
        "        self.relu3=nn.ReLU()\n",
        "        #Shape= (256,32,75,75)\n",
        "        \n",
        "        \n",
        "        self.fc=nn.Linear(in_features=75 * 75 * 32,out_features=num_classes)\n",
        "        \n",
        "        \n",
        "        \n",
        "        #Feed forwad function\n",
        "        \n",
        "    def forward(self,input):\n",
        "        output=self.conv1(input)\n",
        "        output=self.bn1(output)\n",
        "        output=self.relu1(output)\n",
        "            \n",
        "        output=self.pool(output)\n",
        "            \n",
        "        output=self.conv2(output)\n",
        "        output=self.relu2(output)\n",
        "            \n",
        "        output=self.conv3(output)\n",
        "        output=self.bn3(output)\n",
        "        output=self.relu3(output)\n",
        "            \n",
        "            \n",
        "            #Above output will be in matrix form, with shape (256,32,75,75)\n",
        "            \n",
        "        output=output.view(-1,32*75*75)\n",
        "            \n",
        "            \n",
        "        output=self.fc(output)\n",
        "            \n",
        "        return output\n"
      ],
      "execution_count": null,
      "outputs": []
    },
    {
      "cell_type": "code",
      "metadata": {
        "id": "DJP8ThjBTJ47",
        "colab": {
          "base_uri": "https://localhost:8080/"
        },
        "outputId": "a16e696f-c751-4b3b-d992-b0ea00295f8e"
      },
      "source": [
        "checkpoint=torch.load('/content/drive/MyDrive/Colab Notebooks/best_checkpoint.model')\n",
        "model=ConvNet(num_classes=9)\n",
        "model.load_state_dict(checkpoint)\n",
        "model.eval()"
      ],
      "execution_count": null,
      "outputs": [
        {
          "output_type": "execute_result",
          "data": {
            "text/plain": [
              "ConvNet(\n",
              "  (conv1): Conv2d(3, 12, kernel_size=(3, 3), stride=(1, 1), padding=(1, 1))\n",
              "  (bn1): BatchNorm2d(12, eps=1e-05, momentum=0.1, affine=True, track_running_stats=True)\n",
              "  (relu1): ReLU()\n",
              "  (pool): MaxPool2d(kernel_size=2, stride=2, padding=0, dilation=1, ceil_mode=False)\n",
              "  (conv2): Conv2d(12, 20, kernel_size=(3, 3), stride=(1, 1), padding=(1, 1))\n",
              "  (relu2): ReLU()\n",
              "  (conv3): Conv2d(20, 32, kernel_size=(3, 3), stride=(1, 1), padding=(1, 1))\n",
              "  (bn3): BatchNorm2d(32, eps=1e-05, momentum=0.1, affine=True, track_running_stats=True)\n",
              "  (relu3): ReLU()\n",
              "  (fc): Linear(in_features=180000, out_features=9, bias=True)\n",
              ")"
            ]
          },
          "metadata": {},
          "execution_count": 22
        }
      ]
    },
    {
      "cell_type": "code",
      "metadata": {
        "id": "nWHSJJGvTNMz"
      },
      "source": [
        "#Transforms\n",
        "transformer=transforms.Compose([\n",
        "    transforms.Resize((150,150)),\n",
        "    transforms.ToTensor(),  #0-255 to 0-1, numpy to tensors\n",
        "    transforms.Normalize([0.5,0.5,0.5], # 0-1 to [-1,1] , formula (x-mean)/std\n",
        "                        [0.5,0.5,0.5])\n",
        "])"
      ],
      "execution_count": null,
      "outputs": []
    },
    {
      "cell_type": "code",
      "metadata": {
        "id": "uEimif92TQVG"
      },
      "source": [
        "def prediction(img_path,transformer):\n",
        "    \n",
        "    image=Image.open(img_path)\n",
        "    \n",
        "    image_tensor=transformer(image).float()\n",
        "    \n",
        "    \n",
        "    image_tensor=image_tensor.unsqueeze_(0)\n",
        "    \n",
        "    if torch.cuda.is_available():\n",
        "        image_tensor.cuda()\n",
        "        \n",
        "    input=Variable(image_tensor)\n",
        "    \n",
        "    \n",
        "    output=model(input)\n",
        "    \n",
        "    index=output.data.numpy().argmax()\n",
        "    \n",
        "    pred=classes[index]\n",
        "    \n",
        "    return pred"
      ],
      "execution_count": null,
      "outputs": []
    },
    {
      "cell_type": "code",
      "metadata": {
        "id": "udX2_cKfTTFU"
      },
      "source": [
        "images_path=glob.glob(pred_path+'/*.jpg')"
      ],
      "execution_count": null,
      "outputs": []
    },
    {
      "cell_type": "code",
      "metadata": {
        "id": "6tPAq8Z4TVJN",
        "colab": {
          "base_uri": "https://localhost:8080/"
        },
        "outputId": "bdbbdfd3-2a16-4366-8cb5-8e0a5c15e412"
      },
      "source": [
        "pred_dict={}\n",
        "\n",
        "for i in images_path:\n",
        "    pred_dict[i[i.rfind('/')+1:]]=prediction(i,transformer)\n",
        "\n",
        "pred_dict"
      ],
      "execution_count": null,
      "outputs": [
        {
          "output_type": "execute_result",
          "data": {
            "text/plain": [
              "{'600-03907110en_Masterfile.jpg': 'happy',\n",
              " 'Seamus-Murphy1.jpg': 'happy',\n",
              " 'ebf0af38ebd7f3b41c3642cdb08e1487.jpg': 'happy',\n",
              " 'unnamed.jpg': 'happy'}"
            ]
          },
          "metadata": {},
          "execution_count": 29
        }
      ]
    },
    {
      "cell_type": "markdown",
      "metadata": {
        "id": "BOYf-ddvTYVi"
      },
      "source": [
        "***Predicting Multiple Face on Image***"
      ]
    },
    {
      "cell_type": "code",
      "metadata": {
        "id": "L4YqItivTc5z"
      },
      "source": [
        "import numpy as np\n",
        "import cv2\n",
        "import matplotlib\n",
        "from matplotlib import pyplot as plt"
      ],
      "execution_count": null,
      "outputs": []
    },
    {
      "cell_type": "code",
      "metadata": {
        "id": "V84_LWqeTfiy"
      },
      "source": [
        "face_cascade = cv2.CascadeClassifier('/content/drive/MyDrive/Colab Notebooks/haar-cascade-files-master/haarcascade_frontalface_default.xml')\n",
        "eye_cascade = cv2.CascadeClassifier('/content/drive/MyDrive/Colab Notebooks/haar-cascade-files-master/haarcascade_eye.xml')"
      ],
      "execution_count": null,
      "outputs": []
    },
    {
      "cell_type": "code",
      "metadata": {
        "id": "ozVQahhwTh7k"
      },
      "source": [
        "def getCroppedFaceImage(image_path):\n",
        "  img = cv2.imread(image_path)\n",
        "  gray = cv2.cvtColor(img,cv2.COLOR_BGR2GRAY)\n",
        "  faces = face_cascade.detectMultiScale(gray,1.3,5)\n",
        "  \n",
        "  if len(faces) == 0:\n",
        "    return None\n",
        "  else:\n",
        "    faces_list = []\n",
        "    faces_pos_x = []\n",
        "    faces_pos_y = []\n",
        "    faces_pos_w = []\n",
        "    faces_pos_h = []\n",
        "    for face in faces:\n",
        "      for (x,y,w,h) in faces:\n",
        "        roi_gray = gray[y:y+h,x:x+w]\n",
        "        roi_color = img[y:y+h,x:x+w]\n",
        "        eyes = eye_cascade.detectMultiScale(roi_gray)\n",
        "        faces_list.append(roi_color)\n",
        "  \n",
        "      return faces_list"
      ],
      "execution_count": null,
      "outputs": []
    },
    {
      "cell_type": "code",
      "metadata": {
        "id": "Bo9rhxWwTmLi"
      },
      "source": [
        "test_image = '/content/drive/MyDrive/Colab Notebooks/ds/test.jpg'\n",
        "cropped = getCroppedFaceImage(test_image)\n",
        "#plt.imshow(img)"
      ],
      "execution_count": null,
      "outputs": []
    },
    {
      "cell_type": "code",
      "metadata": {
        "id": "mS5wmpDFTpBT"
      },
      "source": [
        "from PIL import Image\n",
        "\n",
        "expression = []\n",
        "\n",
        "for i,face in enumerate(cropped):\n",
        "  img = Image.fromarray(face)\n",
        "  img.save(str(i)+'.jpg')\n",
        "  dicts = prediction(str(i)+'.jpg',transformer)\n",
        "  expression.append(dicts)"
      ],
      "execution_count": null,
      "outputs": []
    },
    {
      "cell_type": "code",
      "metadata": {
        "id": "yjoLnKleTrjF",
        "colab": {
          "base_uri": "https://localhost:8080/",
          "height": 258
        },
        "outputId": "73ee9605-e6ac-4758-b37d-d519dfab9ffa"
      },
      "source": [
        "img = cv2.imread(test_image)\n",
        "gray = cv2.cvtColor(img, cv2.COLOR_BGR2GRAY)\n",
        "faces = face_cascade.detectMultiScale(gray, 1.3, 5)\n",
        "for i,(x,y,w,h) in enumerate(faces):\n",
        "        # To draw a rectangle in a face \n",
        "  cv2.rectangle(img,(x,y),(x+w,y+h),(255,255,0),2) \n",
        "  roi_gray = gray[y:y+h, x:x+w]\n",
        "  roi_color = img[y:y+h, x:x+w]\n",
        "  \n",
        "        # Detects eyes of different sizes in the input image\n",
        "  eyes = eye_cascade.detectMultiScale(roi_gray) \n",
        "  cv2.putText(img,str(expression[i]),(x,y),cv2.FONT_HERSHEY_SIMPLEX,2,(0, 0, 255),2)\n",
        "\n",
        "plt.imshow(img)"
      ],
      "execution_count": null,
      "outputs": [
        {
          "output_type": "execute_result",
          "data": {
            "text/plain": [
              "<matplotlib.image.AxesImage at 0x7efbc1b1b810>"
            ]
          },
          "metadata": {},
          "execution_count": 36
        },
        {
          "output_type": "display_data",
          "data": {
            "image/png": "[encoded data removed]",
            "text/plain": [
              "<Figure size 432x288 with 1 Axes>"
            ]
          },
          "metadata": {
            "needs_background": "light"
          }
        }
      ]
    }
  ]
}